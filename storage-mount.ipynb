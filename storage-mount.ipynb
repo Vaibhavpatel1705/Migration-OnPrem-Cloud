{
 "cells": [
  {
   "cell_type": "code",
   "execution_count": 0,
   "metadata": {
    "application/vnd.databricks.v1+cell": {
     "cellMetadata": {
      "byteLimit": 2048000,
      "rowLimit": 10000
     },
     "inputWidgets": {},
     "nuid": "0bd5ff83-7509-4ccf-a622-35165b4dba51",
     "showTitle": false,
     "title": ""
    },
    "jupyter": {
     "outputs_hidden": true
    }
   },
   "outputs": [],
   "source": [
    "#mounting adls gen 2 container with databricks using credential passthrough method - bronze container\n",
    "configs = {\n",
    "  \"fs.azure.account.auth.type\": \"CustomAccessToken\",\n",
    "  \"fs.azure.account.custom.token.provider.class\": spark.conf.get(\"spark.databricks.passthrough.adls.gen2.tokenProviderClassName\")\n",
    "}\n",
    "\n",
    "dbutils.fs.mount(\n",
    "  source = \"abfss://bronze@datalakecontainer1.dfs.core.windows.net/\",\n",
    "  mount_point = \"/mnt/bronze\",\n",
    "  extra_configs = configs)"
   ]
  },
  {
   "cell_type": "code",
   "execution_count": 0,
   "metadata": {
    "application/vnd.databricks.v1+cell": {
     "cellMetadata": {
      "byteLimit": 2048000,
      "rowLimit": 10000
     },
     "inputWidgets": {},
     "nuid": "0aff7ff3-7d74-4a4b-968f-29058b1dae81",
     "showTitle": false,
     "title": ""
    }
   },
   "outputs": [
    {
     "output_type": "execute_result",
     "data": {
      "text/plain": [
       "[FileInfo(path='dbfs:/mnt/bronze/Customer.csv', name='Customer.csv', size=196514, modificationTime=1713477651000),\n",
       " FileInfo(path='dbfs:/mnt/bronze/CustomerAddress.csv', name='CustomerAddress.csv', size=34313, modificationTime=1713477680000),\n",
       " FileInfo(path='dbfs:/mnt/bronze/Product.csv', name='Product.csv', size=66689, modificationTime=1713477696000),\n",
       " FileInfo(path='dbfs:/mnt/bronze/ProductCategory.csv', name='ProductCategory.csv', size=3125, modificationTime=1713477714000),\n",
       " FileInfo(path='dbfs:/mnt/bronze/ProductDescription.csv', name='ProductDescription.csv', size=103755, modificationTime=1713477728000),\n",
       " FileInfo(path='dbfs:/mnt/bronze/ProductModel.csv', name='ProductModel.csv', size=10461, modificationTime=1713477742000),\n",
       " FileInfo(path='dbfs:/mnt/bronze/ProductModelProductDescription.csv', name='ProductModelProductDescription.csv', size=57232, modificationTime=1713477756000),\n",
       " FileInfo(path='dbfs:/mnt/bronze/SalesLT.Address.csv', name='SalesLT.Address.csv', size=55504, modificationTime=1713477771000),\n",
       " FileInfo(path='dbfs:/mnt/bronze/SalesOrderDetail.csv', name='SalesOrderDetail.csv', size=54102, modificationTime=1713477785000),\n",
       " FileInfo(path='dbfs:/mnt/bronze/SalesOrderHeader.csv', name='SalesOrderHeader.csv', size=8709, modificationTime=1713477800000)]"
      ]
     },
     "execution_count": 5,
     "metadata": {},
     "output_type": "execute_result"
    }
   ],
   "source": [
    "#command to list all the data present in bronze container.\n",
    "dbutils.fs.ls(\"/mnt/bronze\")"
   ]
  },
  {
   "cell_type": "code",
   "execution_count": 0,
   "metadata": {
    "application/vnd.databricks.v1+cell": {
     "cellMetadata": {
      "byteLimit": 2048000,
      "rowLimit": 10000
     },
     "inputWidgets": {},
     "nuid": "98c9bc36-8714-4fc5-b969-8264f528154c",
     "showTitle": false,
     "title": ""
    }
   },
   "outputs": [],
   "source": [
    "#mounting adls gen 2 container with databricks using credential passthrough method - silver container\n",
    "configs = {\n",
    "  \"fs.azure.account.auth.type\": \"CustomAccessToken\",\n",
    "  \"fs.azure.account.custom.token.provider.class\": spark.conf.get(\"spark.databricks.passthrough.adls.gen2.tokenProviderClassName\")\n",
    "}\n",
    "\n",
    "dbutils.fs.mount(\n",
    "  source = \"abfss://silver@datalakecontainer1.dfs.core.windows.net/\",\n",
    "  mount_point = \"/mnt/silver\",\n",
    "  extra_configs = configs)"
   ]
  },
  {
   "cell_type": "code",
   "execution_count": 0,
   "metadata": {
    "application/vnd.databricks.v1+cell": {
     "cellMetadata": {
      "byteLimit": 2048000,
      "rowLimit": 10000
     },
     "inputWidgets": {},
     "nuid": "0363798a-8e51-412a-80fd-a87d4b7f59d6",
     "showTitle": false,
     "title": ""
    }
   },
   "outputs": [
    {
     "output_type": "execute_result",
     "data": {
      "text/plain": [
       "True"
      ]
     },
     "execution_count": 8,
     "metadata": {},
     "output_type": "execute_result"
    }
   ],
   "source": [
    "#mounting adls gen 2 container with databricks using credential passthrough method - gold container\n",
    "configs = {\n",
    "  \"fs.azure.account.auth.type\": \"CustomAccessToken\",\n",
    "  \"fs.azure.account.custom.token.provider.class\": spark.conf.get(\"spark.databricks.passthrough.adls.gen2.tokenProviderClassName\")\n",
    "}\n",
    "\n",
    "dbutils.fs.mount(\n",
    "  source = \"abfss://gold@datalakecontainer1.dfs.core.windows.net/\",\n",
    "  mount_point = \"/mnt/gold\",\n",
    "  extra_configs = configs)"
   ]
  }
 ],
 "metadata": {
  "application/vnd.databricks.v1+notebook": {
   "dashboards": [],
   "language": "python",
   "notebookMetadata": {
    "pythonIndentUnit": 4
   },
   "notebookName": "storage-mount",
   "widgets": {}
  }
 },
 "nbformat": 4,
 "nbformat_minor": 0
}
